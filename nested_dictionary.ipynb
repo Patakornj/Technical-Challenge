{
 "cells": [
  {
   "cell_type": "code",
   "execution_count": 16,
   "metadata": {},
   "outputs": [],
   "source": [
    "## Summary\n",
    "# We have a nested dictionary/Json, we would like a function that you pass in the object and a key and get back the value. How this is implemented is up to you.\n",
    "\n",
    "## Example Inputs\n",
    "# object = {“a”:{“b”:{“c”:”d”}}}\n",
    "# key = a/b/c\n",
    "# value = d\n",
    "\n",
    "# object = {“x”:{“y”:{“z”:”a”}}}\n",
    "# key = x/y/z\n",
    "# value = a\n",
    "\n",
    "## Hints\n",
    "# - We would like to see some tests.\n",
    "# - We would expect it in any other language. (Prefer Python)\n",
    "# - Please don’t use any libraries for this challenge."
   ]
  },
  {
   "cell_type": "code",
   "execution_count": 10,
   "metadata": {},
   "outputs": [],
   "source": [
    "def get_nested_value(obj, key):\n",
    "    current_val = obj\n",
    "    key_path = \"\"\n",
    "\n",
    "    for char in key:\n",
    "        if char == '/':\n",
    "            try:\n",
    "                current_val = current_val[key_path]\n",
    "            except KeyError:\n",
    "                return None\n",
    "            key_path = \"\"\n",
    "        else:\n",
    "            key_path += char\n",
    "\n",
    "    try:\n",
    "        return current_val[key_path]\n",
    "    except KeyError:\n",
    "        return None\n"
   ]
  },
  {
   "cell_type": "code",
   "execution_count": 11,
   "metadata": {},
   "outputs": [
    {
     "data": {
      "text/plain": [
       "'d'"
      ]
     },
     "execution_count": 11,
     "metadata": {},
     "output_type": "execute_result"
    }
   ],
   "source": [
    "obj1 = {\"a\": {\"b\": {\"c\": \"d\"}}}\n",
    "key1 = \"a/b/c\"\n",
    "get_nested_value(obj1,key1)"
   ]
  },
  {
   "cell_type": "code",
   "execution_count": 12,
   "metadata": {},
   "outputs": [
    {
     "data": {
      "text/plain": [
       "'a'"
      ]
     },
     "execution_count": 12,
     "metadata": {},
     "output_type": "execute_result"
    }
   ],
   "source": [
    "obj2 = {\"x\": {\"y\": {\"z\": \"a\"}}}\n",
    "key2 = \"x/y/z\"\n",
    "get_nested_value(obj2,key2)"
   ]
  }
 ],
 "metadata": {
  "kernelspec": {
   "display_name": "Python 3",
   "language": "python",
   "name": "python3"
  },
  "language_info": {
   "codemirror_mode": {
    "name": "ipython",
    "version": 3
   },
   "file_extension": ".py",
   "mimetype": "text/x-python",
   "name": "python",
   "nbconvert_exporter": "python",
   "pygments_lexer": "ipython3",
   "version": "3.11.6"
  }
 },
 "nbformat": 4,
 "nbformat_minor": 2
}
